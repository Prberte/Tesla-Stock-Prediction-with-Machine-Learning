{
 "cells": [
  {
   "cell_type": "code",
   "execution_count": 1,
   "id": "ce38abaf",
   "metadata": {},
   "outputs": [],
   "source": [
    "#importing libraries\n",
    "import pandas as pd\n",
    "import numpy as np\n",
    "import scipy as sp\n",
    "import matplotlib.pyplot as plt\n",
    "import seaborn as sns\n",
    "import math\n",
    "from keras.models import Sequential\n",
    "from keras.layers import Dense\n",
    "from keras.layers import LSTM\n",
    "from sklearn.preprocessing import MinMaxScaler\n",
    "from sklearn.metrics import mean_squared_error\n",
    "from statsmodels.tsa.seasonal import seasonal_decompose\n",
    "from datetime import datetime, timedelta\n",
    "from matplotlib import dates as mpl_dates\n",
    "from tensorflow.keras.layers import Input, LSTM, GRU, SimpleRNN, Dense, GlobalMaxPool1D\n",
    "from tensorflow.keras.models import Model\n",
    "from tensorflow.keras.optimizers import SGD, Adam\n",
    "import pandas as pd\n",
    "import plotly.express as px\n",
    "from copy import copy\n",
    "from scipy import stats\n",
    "import matplotlib.pyplot as plt\n",
    "import numpy as np\n",
    "import plotly.figure_factory as ff\n",
    "from sklearn.linear_model import LinearRegression\n",
    "from sklearn.svm import SVR\n",
    "from sklearn.model_selection import train_test_split\n",
    "from sklearn.metrics import r2_score\n",
    "from tensorflow import keras\n",
    "\n",
    "np.random.seed(1)\n"
   ]
  },
  {
   "cell_type": "code",
   "execution_count": 2,
   "id": "68bdf8a2",
   "metadata": {},
   "outputs": [],
   "source": [
    "import warnings\n",
    "warnings.filterwarnings(\"ignore\")\n"
   ]
  },
  {
   "cell_type": "code",
   "execution_count": 3,
   "id": "3328e03f",
   "metadata": {},
   "outputs": [
    {
     "data": {
      "text/html": [
       "<div>\n",
       "<style scoped>\n",
       "    .dataframe tbody tr th:only-of-type {\n",
       "        vertical-align: middle;\n",
       "    }\n",
       "\n",
       "    .dataframe tbody tr th {\n",
       "        vertical-align: top;\n",
       "    }\n",
       "\n",
       "    .dataframe thead th {\n",
       "        text-align: right;\n",
       "    }\n",
       "</style>\n",
       "<table border=\"1\" class=\"dataframe\">\n",
       "  <thead>\n",
       "    <tr style=\"text-align: right;\">\n",
       "      <th></th>\n",
       "      <th>Open</th>\n",
       "      <th>High</th>\n",
       "      <th>Low</th>\n",
       "      <th>Close</th>\n",
       "      <th>Adj Close</th>\n",
       "      <th>Volume</th>\n",
       "    </tr>\n",
       "    <tr>\n",
       "      <th>Date</th>\n",
       "      <th></th>\n",
       "      <th></th>\n",
       "      <th></th>\n",
       "      <th></th>\n",
       "      <th></th>\n",
       "      <th></th>\n",
       "    </tr>\n",
       "  </thead>\n",
       "  <tbody>\n",
       "    <tr>\n",
       "      <th>2017-01-03</th>\n",
       "      <td>42.972000</td>\n",
       "      <td>44.066002</td>\n",
       "      <td>42.192001</td>\n",
       "      <td>43.397999</td>\n",
       "      <td>43.397999</td>\n",
       "      <td>29616500</td>\n",
       "    </tr>\n",
       "    <tr>\n",
       "      <th>2017-01-04</th>\n",
       "      <td>42.950001</td>\n",
       "      <td>45.599998</td>\n",
       "      <td>42.862000</td>\n",
       "      <td>45.397999</td>\n",
       "      <td>45.397999</td>\n",
       "      <td>56067500</td>\n",
       "    </tr>\n",
       "    <tr>\n",
       "      <th>2017-01-05</th>\n",
       "      <td>45.284000</td>\n",
       "      <td>45.495998</td>\n",
       "      <td>44.389999</td>\n",
       "      <td>45.349998</td>\n",
       "      <td>45.349998</td>\n",
       "      <td>29558500</td>\n",
       "    </tr>\n",
       "    <tr>\n",
       "      <th>2017-01-06</th>\n",
       "      <td>45.386002</td>\n",
       "      <td>46.062000</td>\n",
       "      <td>45.090000</td>\n",
       "      <td>45.801998</td>\n",
       "      <td>45.801998</td>\n",
       "      <td>27639500</td>\n",
       "    </tr>\n",
       "    <tr>\n",
       "      <th>2017-01-09</th>\n",
       "      <td>45.793999</td>\n",
       "      <td>46.383999</td>\n",
       "      <td>45.599998</td>\n",
       "      <td>46.256001</td>\n",
       "      <td>46.256001</td>\n",
       "      <td>19897500</td>\n",
       "    </tr>\n",
       "  </tbody>\n",
       "</table>\n",
       "</div>"
      ],
      "text/plain": [
       "                 Open       High        Low      Close  Adj Close    Volume\n",
       "Date                                                                       \n",
       "2017-01-03  42.972000  44.066002  42.192001  43.397999  43.397999  29616500\n",
       "2017-01-04  42.950001  45.599998  42.862000  45.397999  45.397999  56067500\n",
       "2017-01-05  45.284000  45.495998  44.389999  45.349998  45.349998  29558500\n",
       "2017-01-06  45.386002  46.062000  45.090000  45.801998  45.801998  27639500\n",
       "2017-01-09  45.793999  46.383999  45.599998  46.256001  46.256001  19897500"
      ]
     },
     "execution_count": 3,
     "metadata": {},
     "output_type": "execute_result"
    }
   ],
   "source": [
    "#loading dataset\n",
    "df=pd.read_csv('/Users/pamel/Downloads/Tesla.csv', index_col='Date', parse_dates=True, dayfirst=True)\n",
    "data = df.copy()\n",
    "\n",
    "data.head(5)"
   ]
  },
  {
   "cell_type": "code",
   "execution_count": 4,
   "id": "ef7d17d4",
   "metadata": {},
   "outputs": [
    {
     "data": {
      "text/plain": [
       "(1259, 6)"
      ]
     },
     "execution_count": 4,
     "metadata": {},
     "output_type": "execute_result"
    }
   ],
   "source": [
    "data.shape"
   ]
  },
  {
   "cell_type": "code",
   "execution_count": 5,
   "id": "79fc322d",
   "metadata": {},
   "outputs": [
    {
     "data": {
      "text/plain": [
       "Open         0\n",
       "High         0\n",
       "Low          0\n",
       "Close        0\n",
       "Adj Close    0\n",
       "Volume       0\n",
       "dtype: int64"
      ]
     },
     "execution_count": 5,
     "metadata": {},
     "output_type": "execute_result"
    }
   ],
   "source": [
    "data.isnull().sum()"
   ]
  },
  {
   "cell_type": "code",
   "execution_count": 6,
   "id": "a910bd44",
   "metadata": {
    "scrolled": true
   },
   "outputs": [
    {
     "name": "stdout",
     "output_type": "stream",
     "text": [
      "<class 'pandas.core.frame.DataFrame'>\n",
      "DatetimeIndex: 1259 entries, 2017-01-03 to 2021-12-31\n",
      "Data columns (total 6 columns):\n",
      " #   Column     Non-Null Count  Dtype  \n",
      "---  ------     --------------  -----  \n",
      " 0   Open       1259 non-null   float64\n",
      " 1   High       1259 non-null   float64\n",
      " 2   Low        1259 non-null   float64\n",
      " 3   Close      1259 non-null   float64\n",
      " 4   Adj Close  1259 non-null   float64\n",
      " 5   Volume     1259 non-null   int64  \n",
      "dtypes: float64(5), int64(1)\n",
      "memory usage: 68.9 KB\n"
     ]
    }
   ],
   "source": [
    "#Data information (data as a string)\n",
    "\n",
    "data.info()"
   ]
  },
  {
   "cell_type": "code",
   "execution_count": 7,
   "id": "6ccc4691",
   "metadata": {},
   "outputs": [
    {
     "data": {
      "image/png": "[encoded data removed]",
      "text/plain": [
       "<Figure size 576x288 with 1 Axes>"
      ]
     },
     "metadata": {
      "needs_background": "light"
     },
     "output_type": "display_data"
    }
   ],
   "source": [
    "#plotting the data to chech\n",
    "\n",
    "plt.figure(figsize=(8,4))\n",
    "plt.title('Close Price History')\n",
    "plt.plot(data['Adj Close'], color='red')\n",
    "plt.xlabel('Date', fontsize=11)\n",
    "plt.ylabel('Close Price USD', fontsize = 11)\n",
    "plt.show()"
   ]
  },
  {
   "cell_type": "code",
   "execution_count": 8,
   "id": "5e1997fa",
   "metadata": {},
   "outputs": [],
   "source": [
    "# calculate returns by first shifting the data - Lag Difference\n",
    "data['PrevClose'] = data['Adj Close'].shift(1)"
   ]
  },
  {
   "cell_type": "code",
   "execution_count": 9,
   "id": "4b710ef3",
   "metadata": {},
   "outputs": [
    {
     "data": {
      "text/html": [
       "<div>\n",
       "<style scoped>\n",
       "    .dataframe tbody tr th:only-of-type {\n",
       "        vertical-align: middle;\n",
       "    }\n",
       "\n",
       "    .dataframe tbody tr th {\n",
       "        vertical-align: top;\n",
       "    }\n",
       "\n",
       "    .dataframe thead th {\n",
       "        text-align: right;\n",
       "    }\n",
       "</style>\n",
       "<table border=\"1\" class=\"dataframe\">\n",
       "  <thead>\n",
       "    <tr style=\"text-align: right;\">\n",
       "      <th></th>\n",
       "      <th>Open</th>\n",
       "      <th>High</th>\n",
       "      <th>Low</th>\n",
       "      <th>Close</th>\n",
       "      <th>Adj Close</th>\n",
       "      <th>Volume</th>\n",
       "      <th>PrevClose</th>\n",
       "      <th>Return</th>\n",
       "    </tr>\n",
       "    <tr>\n",
       "      <th>Date</th>\n",
       "      <th></th>\n",
       "      <th></th>\n",
       "      <th></th>\n",
       "      <th></th>\n",
       "      <th></th>\n",
       "      <th></th>\n",
       "      <th></th>\n",
       "      <th></th>\n",
       "    </tr>\n",
       "  </thead>\n",
       "  <tbody>\n",
       "    <tr>\n",
       "      <th>2017-01-03</th>\n",
       "      <td>42.972000</td>\n",
       "      <td>44.066002</td>\n",
       "      <td>42.192001</td>\n",
       "      <td>43.397999</td>\n",
       "      <td>43.397999</td>\n",
       "      <td>29616500</td>\n",
       "      <td>NaN</td>\n",
       "      <td>NaN</td>\n",
       "    </tr>\n",
       "    <tr>\n",
       "      <th>2017-01-04</th>\n",
       "      <td>42.950001</td>\n",
       "      <td>45.599998</td>\n",
       "      <td>42.862000</td>\n",
       "      <td>45.397999</td>\n",
       "      <td>45.397999</td>\n",
       "      <td>56067500</td>\n",
       "      <td>43.397999</td>\n",
       "      <td>0.046085</td>\n",
       "    </tr>\n",
       "    <tr>\n",
       "      <th>2017-01-05</th>\n",
       "      <td>45.284000</td>\n",
       "      <td>45.495998</td>\n",
       "      <td>44.389999</td>\n",
       "      <td>45.349998</td>\n",
       "      <td>45.349998</td>\n",
       "      <td>29558500</td>\n",
       "      <td>45.397999</td>\n",
       "      <td>-0.001057</td>\n",
       "    </tr>\n",
       "    <tr>\n",
       "      <th>2017-01-06</th>\n",
       "      <td>45.386002</td>\n",
       "      <td>46.062000</td>\n",
       "      <td>45.090000</td>\n",
       "      <td>45.801998</td>\n",
       "      <td>45.801998</td>\n",
       "      <td>27639500</td>\n",
       "      <td>45.349998</td>\n",
       "      <td>0.009967</td>\n",
       "    </tr>\n",
       "    <tr>\n",
       "      <th>2017-01-09</th>\n",
       "      <td>45.793999</td>\n",
       "      <td>46.383999</td>\n",
       "      <td>45.599998</td>\n",
       "      <td>46.256001</td>\n",
       "      <td>46.256001</td>\n",
       "      <td>19897500</td>\n",
       "      <td>45.801998</td>\n",
       "      <td>0.009912</td>\n",
       "    </tr>\n",
       "    <tr>\n",
       "      <th>...</th>\n",
       "      <td>...</td>\n",
       "      <td>...</td>\n",
       "      <td>...</td>\n",
       "      <td>...</td>\n",
       "      <td>...</td>\n",
       "      <td>...</td>\n",
       "      <td>...</td>\n",
       "      <td>...</td>\n",
       "    </tr>\n",
       "    <tr>\n",
       "      <th>2021-12-27</th>\n",
       "      <td>1073.670044</td>\n",
       "      <td>1117.000000</td>\n",
       "      <td>1070.719971</td>\n",
       "      <td>1093.939941</td>\n",
       "      <td>1093.939941</td>\n",
       "      <td>23715300</td>\n",
       "      <td>1067.000000</td>\n",
       "      <td>0.025248</td>\n",
       "    </tr>\n",
       "    <tr>\n",
       "      <th>2021-12-28</th>\n",
       "      <td>1109.489990</td>\n",
       "      <td>1119.000000</td>\n",
       "      <td>1078.420044</td>\n",
       "      <td>1088.469971</td>\n",
       "      <td>1088.469971</td>\n",
       "      <td>20108000</td>\n",
       "      <td>1093.939941</td>\n",
       "      <td>-0.005000</td>\n",
       "    </tr>\n",
       "    <tr>\n",
       "      <th>2021-12-29</th>\n",
       "      <td>1098.640015</td>\n",
       "      <td>1104.000000</td>\n",
       "      <td>1064.140015</td>\n",
       "      <td>1086.189941</td>\n",
       "      <td>1086.189941</td>\n",
       "      <td>18718000</td>\n",
       "      <td>1088.469971</td>\n",
       "      <td>-0.002095</td>\n",
       "    </tr>\n",
       "    <tr>\n",
       "      <th>2021-12-30</th>\n",
       "      <td>1061.329956</td>\n",
       "      <td>1095.550049</td>\n",
       "      <td>1053.150024</td>\n",
       "      <td>1070.339966</td>\n",
       "      <td>1070.339966</td>\n",
       "      <td>15680300</td>\n",
       "      <td>1086.189941</td>\n",
       "      <td>-0.014592</td>\n",
       "    </tr>\n",
       "    <tr>\n",
       "      <th>2021-12-31</th>\n",
       "      <td>1073.439941</td>\n",
       "      <td>1082.000000</td>\n",
       "      <td>1054.589966</td>\n",
       "      <td>1056.780029</td>\n",
       "      <td>1056.780029</td>\n",
       "      <td>13528700</td>\n",
       "      <td>1070.339966</td>\n",
       "      <td>-0.012669</td>\n",
       "    </tr>\n",
       "  </tbody>\n",
       "</table>\n",
       "<p>1259 rows × 8 columns</p>\n",
       "</div>"
      ],
      "text/plain": [
       "                   Open         High          Low        Close    Adj Close  \\\n",
       "Date                                                                          \n",
       "2017-01-03    42.972000    44.066002    42.192001    43.397999    43.397999   \n",
       "2017-01-04    42.950001    45.599998    42.862000    45.397999    45.397999   \n",
       "2017-01-05    45.284000    45.495998    44.389999    45.349998    45.349998   \n",
       "2017-01-06    45.386002    46.062000    45.090000    45.801998    45.801998   \n",
       "2017-01-09    45.793999    46.383999    45.599998    46.256001    46.256001   \n",
       "...                 ...          ...          ...          ...          ...   \n",
       "2021-12-27  1073.670044  1117.000000  1070.719971  1093.939941  1093.939941   \n",
       "2021-12-28  1109.489990  1119.000000  1078.420044  1088.469971  1088.469971   \n",
       "2021-12-29  1098.640015  1104.000000  1064.140015  1086.189941  1086.189941   \n",
       "2021-12-30  1061.329956  1095.550049  1053.150024  1070.339966  1070.339966   \n",
       "2021-12-31  1073.439941  1082.000000  1054.589966  1056.780029  1056.780029   \n",
       "\n",
       "              Volume    PrevClose    Return  \n",
       "Date                                         \n",
       "2017-01-03  29616500          NaN       NaN  \n",
       "2017-01-04  56067500    43.397999  0.046085  \n",
       "2017-01-05  29558500    45.397999 -0.001057  \n",
       "2017-01-06  27639500    45.349998  0.009967  \n",
       "2017-01-09  19897500    45.801998  0.009912  \n",
       "...              ...          ...       ...  \n",
       "2021-12-27  23715300  1067.000000  0.025248  \n",
       "2021-12-28  20108000  1093.939941 -0.005000  \n",
       "2021-12-29  18718000  1088.469971 -0.002095  \n",
       "2021-12-30  15680300  1086.189941 -0.014592  \n",
       "2021-12-31  13528700  1070.339966 -0.012669  \n",
       "\n",
       "[1259 rows x 8 columns]"
      ]
     },
     "execution_count": 9,
     "metadata": {},
     "output_type": "execute_result"
    }
   ],
   "source": [
    "# then the return is\n",
    "\n",
    "data['Return'] = (data['Adj Close'] - data['PrevClose']) / data['PrevClose']\n",
    "data"
   ]
  },
  {
   "cell_type": "code",
   "execution_count": 10,
   "id": "74e6cfbe",
   "metadata": {},
   "outputs": [
    {
     "data": {
      "text/plain": [
       "<AxesSubplot:>"
      ]
     },
     "execution_count": 10,
     "metadata": {},
     "output_type": "execute_result"
    },
    {
     "data": {
      "image/png": "[encoded data removed]",
      "text/plain": [
       "<Figure size 432x288 with 1 Axes>"
      ]
     },
     "metadata": {
      "needs_background": "light"
     },
     "output_type": "display_data"
    }
   ],
   "source": [
    "\n",
    "data['Return'].hist()"
   ]
  },
  {
   "cell_type": "code",
   "execution_count": 11,
   "id": "51004a63",
   "metadata": {},
   "outputs": [
    {
     "data": {
      "image/png": "[encoded data removed]",
      "text/plain": [
       "<Figure size 576x288 with 1 Axes>"
      ]
     },
     "metadata": {
      "needs_background": "light"
     },
     "output_type": "display_data"
    }
   ],
   "source": [
    "#plotting the return stock price 1 Year\n",
    "df_plot = data['2020-12-01':'2021-12-01'].resample('M').sum()\n",
    "plt.figure(figsize=(8,4))\n",
    "plt.title('Close Price History')\n",
    "plt.plot(df_plot['Return'], color='red')\n",
    "plt.xlabel('Date', fontsize=11)\n",
    "plt.ylabel('stock price change - 1 Year', fontsize = 11)\n",
    "plt.show()"
   ]
  },
  {
   "cell_type": "code",
   "execution_count": 12,
   "id": "683eb829",
   "metadata": {},
   "outputs": [
    {
     "data": {
      "text/html": [
       "<div>\n",
       "<style scoped>\n",
       "    .dataframe tbody tr th:only-of-type {\n",
       "        vertical-align: middle;\n",
       "    }\n",
       "\n",
       "    .dataframe tbody tr th {\n",
       "        vertical-align: top;\n",
       "    }\n",
       "\n",
       "    .dataframe thead th {\n",
       "        text-align: right;\n",
       "    }\n",
       "</style>\n",
       "<table border=\"1\" class=\"dataframe\">\n",
       "  <thead>\n",
       "    <tr style=\"text-align: right;\">\n",
       "      <th></th>\n",
       "      <th>Open</th>\n",
       "      <th>High</th>\n",
       "      <th>Low</th>\n",
       "      <th>Close</th>\n",
       "      <th>Adj Close</th>\n",
       "      <th>Volume</th>\n",
       "      <th>PrevClose</th>\n",
       "      <th>Return</th>\n",
       "    </tr>\n",
       "    <tr>\n",
       "      <th>Date</th>\n",
       "      <th></th>\n",
       "      <th></th>\n",
       "      <th></th>\n",
       "      <th></th>\n",
       "      <th></th>\n",
       "      <th></th>\n",
       "      <th></th>\n",
       "      <th></th>\n",
       "    </tr>\n",
       "  </thead>\n",
       "  <tbody>\n",
       "    <tr>\n",
       "      <th>2021-12-27</th>\n",
       "      <td>1073.670044</td>\n",
       "      <td>1117.000000</td>\n",
       "      <td>1070.719971</td>\n",
       "      <td>1093.939941</td>\n",
       "      <td>1093.939941</td>\n",
       "      <td>23715300</td>\n",
       "      <td>1067.000000</td>\n",
       "      <td>0.025248</td>\n",
       "    </tr>\n",
       "    <tr>\n",
       "      <th>2021-12-28</th>\n",
       "      <td>1109.489990</td>\n",
       "      <td>1119.000000</td>\n",
       "      <td>1078.420044</td>\n",
       "      <td>1088.469971</td>\n",
       "      <td>1088.469971</td>\n",
       "      <td>20108000</td>\n",
       "      <td>1093.939941</td>\n",
       "      <td>-0.005000</td>\n",
       "    </tr>\n",
       "    <tr>\n",
       "      <th>2021-12-29</th>\n",
       "      <td>1098.640015</td>\n",
       "      <td>1104.000000</td>\n",
       "      <td>1064.140015</td>\n",
       "      <td>1086.189941</td>\n",
       "      <td>1086.189941</td>\n",
       "      <td>18718000</td>\n",
       "      <td>1088.469971</td>\n",
       "      <td>-0.002095</td>\n",
       "    </tr>\n",
       "    <tr>\n",
       "      <th>2021-12-30</th>\n",
       "      <td>1061.329956</td>\n",
       "      <td>1095.550049</td>\n",
       "      <td>1053.150024</td>\n",
       "      <td>1070.339966</td>\n",
       "      <td>1070.339966</td>\n",
       "      <td>15680300</td>\n",
       "      <td>1086.189941</td>\n",
       "      <td>-0.014592</td>\n",
       "    </tr>\n",
       "    <tr>\n",
       "      <th>2021-12-31</th>\n",
       "      <td>1073.439941</td>\n",
       "      <td>1082.000000</td>\n",
       "      <td>1054.589966</td>\n",
       "      <td>1056.780029</td>\n",
       "      <td>1056.780029</td>\n",
       "      <td>13528700</td>\n",
       "      <td>1070.339966</td>\n",
       "      <td>-0.012669</td>\n",
       "    </tr>\n",
       "  </tbody>\n",
       "</table>\n",
       "</div>"
      ],
      "text/plain": [
       "                   Open         High          Low        Close    Adj Close  \\\n",
       "Date                                                                          \n",
       "2021-12-27  1073.670044  1117.000000  1070.719971  1093.939941  1093.939941   \n",
       "2021-12-28  1109.489990  1119.000000  1078.420044  1088.469971  1088.469971   \n",
       "2021-12-29  1098.640015  1104.000000  1064.140015  1086.189941  1086.189941   \n",
       "2021-12-30  1061.329956  1095.550049  1053.150024  1070.339966  1070.339966   \n",
       "2021-12-31  1073.439941  1082.000000  1054.589966  1056.780029  1056.780029   \n",
       "\n",
       "              Volume    PrevClose    Return  \n",
       "Date                                         \n",
       "2021-12-27  23715300  1067.000000  0.025248  \n",
       "2021-12-28  20108000  1093.939941 -0.005000  \n",
       "2021-12-29  18718000  1088.469971 -0.002095  \n",
       "2021-12-30  15680300  1086.189941 -0.014592  \n",
       "2021-12-31  13528700  1070.339966 -0.012669  "
      ]
     },
     "execution_count": 12,
     "metadata": {},
     "output_type": "execute_result"
    }
   ],
   "source": [
    "# sort by date\n",
    "data = data.sort_values('Date')\n",
    "\n",
    "\n",
    "data.tail()"
   ]
  },
  {
   "cell_type": "code",
   "execution_count": 13,
   "id": "15ae3002",
   "metadata": {},
   "outputs": [
    {
     "name": "stdout",
     "output_type": "stream",
     "text": [
      "<class 'pandas.core.frame.DataFrame'>\n",
      "DatetimeIndex: 1259 entries, 2017-01-03 to 2021-12-31\n",
      "Data columns (total 8 columns):\n",
      " #   Column     Non-Null Count  Dtype  \n",
      "---  ------     --------------  -----  \n",
      " 0   Open       1259 non-null   float64\n",
      " 1   High       1259 non-null   float64\n",
      " 2   Low        1259 non-null   float64\n",
      " 3   Close      1259 non-null   float64\n",
      " 4   Adj Close  1259 non-null   float64\n",
      " 5   Volume     1259 non-null   int64  \n",
      " 6   PrevClose  1258 non-null   float64\n",
      " 7   Return     1258 non-null   float64\n",
      "dtypes: float64(7), int64(1)\n",
      "memory usage: 88.5 KB\n"
     ]
    }
   ],
   "source": [
    "data.info()"
   ]
  },
  {
   "cell_type": "code",
   "execution_count": 14,
   "id": "64049e53",
   "metadata": {},
   "outputs": [],
   "source": [
    "#Fixing the data type\n",
    "\n",
    "data = data.astype({\"Open\":\"float32\",\"High\":\"float32\",\"Low\":\"float32\",\n",
    "                    \"Close\":\"float32\",\"Adj Close\":\"float32\",\"Volume\":\"float32\"})"
   ]
  },
  {
   "cell_type": "code",
   "execution_count": 15,
   "id": "74f1d3f2",
   "metadata": {},
   "outputs": [
    {
     "name": "stdout",
     "output_type": "stream",
     "text": [
      "Total number of days in the dataset: 1259\n"
     ]
    }
   ],
   "source": [
    "#Selecting the data \n",
    "\n",
    "data_to_use = data['Adj Close'].values\n",
    "\n",
    "print('Total number of days in the dataset: {}'.format(len(data_to_use)))"
   ]
  },
  {
   "cell_type": "code",
   "execution_count": 16,
   "id": "8f6d2c6b",
   "metadata": {},
   "outputs": [
    {
     "data": {
      "text/plain": [
       "(1259, 1)"
      ]
     },
     "execution_count": 16,
     "metadata": {},
     "output_type": "execute_result"
    }
   ],
   "source": [
    "# Normalizying the data\n",
    "sc = MinMaxScaler(feature_range = (0, 1))\n",
    "\n",
    "series = sc.fit_transform(data_to_use.reshape(-1, 1))\n",
    "series.shape"
   ]
  },
  {
   "cell_type": "code",
   "execution_count": 17,
   "id": "47badf95",
   "metadata": {},
   "outputs": [],
   "source": [
    "#Selecting the data to be used \n",
    "\n",
    "T = data['Adj Close'].values\n",
    "T = T.astype('float32')\n",
    "T = np.reshape(T, (-1, 1))"
   ]
  },
  {
   "cell_type": "code",
   "execution_count": 18,
   "id": "c591b3c9",
   "metadata": {},
   "outputs": [],
   "source": [
    "#Normalization \n",
    "\n",
    "scaler = MinMaxScaler(feature_range = (0, 1))\n",
    "T = scaler.fit_transform(T)\n",
    "\n",
    "# 65% of the data is for training, 35% for testing since small data\n",
    "train_size = int(len(T) * 0.65)\n",
    "test_size = int(len(T) - train_size)\n",
    "train, test = T[0:train_size,:], T[train_size:len(T),:]"
   ]
  },
  {
   "cell_type": "code",
   "execution_count": 19,
   "id": "b33c89fa",
   "metadata": {},
   "outputs": [],
   "source": [
    "# Creatying the features from the time series data \n",
    "def create_features(data, window_size):\n",
    "    X, Y = [], []\n",
    "    for i in range(len(data) - window_size - 1):\n",
    "        window = data[i:(i + window_size), 0]\n",
    "        X.append(window)\n",
    "        Y.append(data[i + window_size, 0])\n",
    "    return np.array(X), np.array(Y)\n",
    "\n",
    "# Roughly one month of trading assuming 5 trading days per week\n",
    "window_size = 20\n",
    "X_train, Y_train = create_features(train, window_size)\n",
    "\n",
    "X_test, Y_test = create_features(test, window_size)\n",
    "\n",
    "# Reshape to the format of [samples, time steps, features]\n",
    "X_train = np.reshape(X_train, (X_train.shape[0], 1, X_train.shape[1]))\n",
    "\n",
    "X_test = np.reshape(X_test, (X_test.shape[0], 1, X_test.shape[1]))"
   ]
  },
  {
   "cell_type": "code",
   "execution_count": 20,
   "id": "5146c8ef",
   "metadata": {},
   "outputs": [
    {
     "name": "stdout",
     "output_type": "stream",
     "text": [
      "False\n"
     ]
    }
   ],
   "source": [
    "# Checking the data \n",
    "T_shape = T.shape\n",
    "train_shape = train.shape\n",
    "test_shape = test.shape\n",
    "\n",
    "# Make sure that the number of rows in the dataset = train rows + test rows\n",
    "def isLeak(T_shape, train_shape, test_shape):\n",
    "    return not(T_shape[0] == (train_shape[0] + test_shape[0]))\n",
    "\n",
    "print(isLeak(T_shape, train_shape, test_shape))"
   ]
  },
  {
   "cell_type": "code",
   "execution_count": 21,
   "id": "42f35f7f",
   "metadata": {},
   "outputs": [],
   "source": [
    "import tensorflow as tf\n",
    "tf.random.set_seed(11)\n",
    "np.random.seed(11)"
   ]
  },
  {
   "cell_type": "code",
   "execution_count": 22,
   "id": "bc2ad888",
   "metadata": {},
   "outputs": [
    {
     "name": "stdout",
     "output_type": "stream",
     "text": [
      "Model: \"model\"\n",
      "_________________________________________________________________\n",
      " Layer (type)                Output Shape              Param #   \n",
      "=================================================================\n",
      " input_1 (InputLayer)        [(None, 1, 20)]           0         \n",
      "                                                                 \n",
      " lstm (LSTM)                 (None, 1, 60)             19440     \n",
      "                                                                 \n",
      " dropout (Dropout)           (None, 1, 60)             0         \n",
      "                                                                 \n",
      " lstm_1 (LSTM)               (None, 1, 60)             29040     \n",
      "                                                                 \n",
      " dropout_1 (Dropout)         (None, 1, 60)             0         \n",
      "                                                                 \n",
      " lstm_2 (LSTM)               (None, 60)                29040     \n",
      "                                                                 \n",
      " dense (Dense)               (None, 1)                 61        \n",
      "                                                                 \n",
      "=================================================================\n",
      "Total params: 77,581\n",
      "Trainable params: 77,581\n",
      "Non-trainable params: 0\n",
      "_________________________________________________________________\n"
     ]
    }
   ],
   "source": [
    "# Creating the model and setting parameters\n",
    "inputs = keras.layers.Input(shape=(X_train.shape[1], window_size))\n",
    "x = keras.layers.LSTM(60, return_sequences= True)(inputs)\n",
    "x = keras.layers.Dropout(0.2)(x)\n",
    "x = keras.layers.LSTM(60, return_sequences=True)(x)\n",
    "x = keras.layers.Dropout(0.2)(x)\n",
    "x = keras.layers.LSTM(60)(x)\n",
    "outputs = keras.layers.Dense(1, activation='linear')(x)\n",
    "\n",
    "model = keras.Model(inputs=inputs, outputs=outputs)\n",
    "\n",
    "model.compile(optimizer='adam', loss=\"mse\")\n",
    "\n",
    "model.summary()"
   ]
  },
  {
   "cell_type": "code",
   "execution_count": 23,
   "id": "ada82bc7",
   "metadata": {},
   "outputs": [
    {
     "name": "stdout",
     "output_type": "stream",
     "text": [
      "Epoch 1/100\n",
      "40/40 [==============================] - 8s 52ms/step - loss: 4.2083e-04 - val_loss: 0.2576\n",
      "Epoch 2/100\n",
      "40/40 [==============================] - 0s 11ms/step - loss: 4.2492e-04 - val_loss: 0.2547\n",
      "Epoch 3/100\n",
      "40/40 [==============================] - 0s 11ms/step - loss: 4.2578e-04 - val_loss: 0.2551\n",
      "Epoch 4/100\n",
      "40/40 [==============================] - 0s 11ms/step - loss: 3.9797e-04 - val_loss: 0.2451\n",
      "Epoch 5/100\n",
      "40/40 [==============================] - 0s 11ms/step - loss: 3.6531e-04 - val_loss: 0.2242\n",
      "Epoch 6/100\n",
      "40/40 [==============================] - 0s 11ms/step - loss: 3.1183e-04 - val_loss: 0.1778\n",
      "Epoch 7/100\n",
      "40/40 [==============================] - 0s 11ms/step - loss: 2.1006e-04 - val_loss: 0.0973\n",
      "Epoch 8/100\n",
      "40/40 [==============================] - 0s 10ms/step - loss: 1.0676e-04 - val_loss: 0.0334\n",
      "Epoch 9/100\n",
      "40/40 [==============================] - 0s 8ms/step - loss: 7.7086e-05 - val_loss: 0.0211\n",
      "Epoch 10/100\n",
      "40/40 [==============================] - 0s 8ms/step - loss: 6.3929e-05 - val_loss: 0.0290\n",
      "Epoch 11/100\n",
      "40/40 [==============================] - 0s 7ms/step - loss: 5.9604e-05 - val_loss: 0.0213\n",
      "Epoch 12/100\n",
      "40/40 [==============================] - 0s 7ms/step - loss: 6.6474e-05 - val_loss: 0.0370\n",
      "Epoch 13/100\n",
      "40/40 [==============================] - 0s 7ms/step - loss: 5.5873e-05 - val_loss: 0.0241\n",
      "Epoch 14/100\n",
      "40/40 [==============================] - 0s 8ms/step - loss: 6.1438e-05 - val_loss: 0.0374\n",
      "Epoch 15/100\n",
      "40/40 [==============================] - 0s 7ms/step - loss: 4.8883e-05 - val_loss: 0.0254\n",
      "Epoch 16/100\n",
      "40/40 [==============================] - 0s 8ms/step - loss: 4.3415e-05 - val_loss: 0.0318\n",
      "Epoch 17/100\n",
      "40/40 [==============================] - 0s 8ms/step - loss: 4.5288e-05 - val_loss: 0.0281\n",
      "Epoch 18/100\n",
      "40/40 [==============================] - 0s 8ms/step - loss: 5.1008e-05 - val_loss: 0.0434\n",
      "Epoch 19/100\n",
      "40/40 [==============================] - 0s 8ms/step - loss: 4.6402e-05 - val_loss: 0.0260\n",
      "Epoch 20/100\n",
      "40/40 [==============================] - 0s 7ms/step - loss: 5.1025e-05 - val_loss: 0.0479\n",
      "Epoch 21/100\n",
      "40/40 [==============================] - 0s 8ms/step - loss: 4.8494e-05 - val_loss: 0.0271\n",
      "Epoch 22/100\n",
      "40/40 [==============================] - 0s 8ms/step - loss: 5.9171e-05 - val_loss: 0.0544\n",
      "Epoch 23/100\n",
      "40/40 [==============================] - 0s 8ms/step - loss: 5.4806e-05 - val_loss: 0.0288\n",
      "Epoch 24/100\n",
      "40/40 [==============================] - 0s 8ms/step - loss: 5.9511e-05 - val_loss: 0.0580\n",
      "Epoch 25/100\n",
      "40/40 [==============================] - 0s 8ms/step - loss: 5.3808e-05 - val_loss: 0.0317\n",
      "Epoch 26/100\n",
      "40/40 [==============================] - 0s 7ms/step - loss: 4.2973e-05 - val_loss: 0.0526\n",
      "Epoch 27/100\n",
      "40/40 [==============================] - 0s 8ms/step - loss: 4.0087e-05 - val_loss: 0.0341\n",
      "Epoch 28/100\n",
      "40/40 [==============================] - 0s 8ms/step - loss: 3.9188e-05 - val_loss: 0.0515\n",
      "Epoch 29/100\n",
      "40/40 [==============================] - 0s 8ms/step - loss: 4.0932e-05 - val_loss: 0.0320\n",
      "Epoch 30/100\n",
      "40/40 [==============================] - 0s 8ms/step - loss: 3.2348e-05 - val_loss: 0.0482\n",
      "Epoch 31/100\n",
      "40/40 [==============================] - 0s 8ms/step - loss: 3.5337e-05 - val_loss: 0.0345\n",
      "Epoch 32/100\n",
      "40/40 [==============================] - 0s 8ms/step - loss: 2.6845e-05 - val_loss: 0.0461\n",
      "Epoch 33/100\n",
      "40/40 [==============================] - 0s 8ms/step - loss: 3.8423e-05 - val_loss: 0.0365\n",
      "Epoch 34/100\n",
      "40/40 [==============================] - 0s 8ms/step - loss: 3.3762e-05 - val_loss: 0.0553\n",
      "Epoch 35/100\n",
      "40/40 [==============================] - 0s 8ms/step - loss: 4.3217e-05 - val_loss: 0.0361\n",
      "Epoch 36/100\n",
      "40/40 [==============================] - 0s 8ms/step - loss: 3.3845e-05 - val_loss: 0.0547\n",
      "Epoch 37/100\n",
      "40/40 [==============================] - 0s 8ms/step - loss: 3.9304e-05 - val_loss: 0.0372\n",
      "Epoch 38/100\n",
      "40/40 [==============================] - 0s 7ms/step - loss: 3.5020e-05 - val_loss: 0.0544\n",
      "Epoch 39/100\n",
      "40/40 [==============================] - 0s 8ms/step - loss: 3.7114e-05 - val_loss: 0.0383\n",
      "Epoch 40/100\n",
      "40/40 [==============================] - 0s 8ms/step - loss: 3.1531e-05 - val_loss: 0.0535\n",
      "Epoch 41/100\n",
      "40/40 [==============================] - 0s 8ms/step - loss: 4.5859e-05 - val_loss: 0.0414\n",
      "Epoch 42/100\n",
      "40/40 [==============================] - 0s 8ms/step - loss: 4.9760e-05 - val_loss: 0.0664\n",
      "Epoch 43/100\n",
      "40/40 [==============================] - 0s 7ms/step - loss: 5.6618e-05 - val_loss: 0.0398\n",
      "Epoch 44/100\n",
      "40/40 [==============================] - 0s 8ms/step - loss: 4.1034e-05 - val_loss: 0.0639\n",
      "Epoch 45/100\n",
      "40/40 [==============================] - 0s 8ms/step - loss: 5.2102e-05 - val_loss: 0.0398\n",
      "Epoch 46/100\n",
      "40/40 [==============================] - 0s 8ms/step - loss: 4.1740e-05 - val_loss: 0.0687\n",
      "Epoch 47/100\n",
      "40/40 [==============================] - 0s 8ms/step - loss: 4.4302e-05 - val_loss: 0.0417\n",
      "Epoch 48/100\n",
      "40/40 [==============================] - 0s 8ms/step - loss: 3.1700e-05 - val_loss: 0.0599\n",
      "Epoch 49/100\n",
      "40/40 [==============================] - 0s 8ms/step - loss: 3.7960e-05 - val_loss: 0.0444\n",
      "Epoch 50/100\n",
      "40/40 [==============================] - 0s 7ms/step - loss: 4.2960e-05 - val_loss: 0.0680\n",
      "Epoch 51/100\n",
      "40/40 [==============================] - 0s 8ms/step - loss: 4.6025e-05 - val_loss: 0.0452\n",
      "Epoch 52/100\n",
      "40/40 [==============================] - 0s 8ms/step - loss: 3.3911e-05 - val_loss: 0.0654\n",
      "Epoch 53/100\n",
      "40/40 [==============================] - 0s 9ms/step - loss: 4.1868e-05 - val_loss: 0.0463\n",
      "Epoch 54/100\n",
      "40/40 [==============================] - 0s 8ms/step - loss: 3.8490e-05 - val_loss: 0.0684\n",
      "Epoch 55/100\n",
      "40/40 [==============================] - 0s 7ms/step - loss: 4.9754e-05 - val_loss: 0.0482\n",
      "Epoch 56/100\n",
      "40/40 [==============================] - 0s 8ms/step - loss: 5.2159e-05 - val_loss: 0.0798\n",
      "Epoch 57/100\n",
      "40/40 [==============================] - 0s 8ms/step - loss: 4.9590e-05 - val_loss: 0.0473\n",
      "Epoch 58/100\n",
      "40/40 [==============================] - 0s 8ms/step - loss: 2.5886e-05 - val_loss: 0.0668\n",
      "Epoch 59/100\n",
      "40/40 [==============================] - 0s 8ms/step - loss: 3.0124e-05 - val_loss: 0.0502\n",
      "Epoch 60/100\n",
      "40/40 [==============================] - 0s 7ms/step - loss: 1.9568e-05 - val_loss: 0.0587\n",
      "Epoch 61/100\n",
      "40/40 [==============================] - 0s 8ms/step - loss: 2.1265e-05 - val_loss: 0.0550\n",
      "Epoch 62/100\n",
      "40/40 [==============================] - 0s 8ms/step - loss: 1.9410e-05 - val_loss: 0.0564\n",
      "Epoch 63/100\n",
      "40/40 [==============================] - 0s 7ms/step - loss: 1.9924e-05 - val_loss: 0.0590\n",
      "Epoch 64/100\n",
      "40/40 [==============================] - 0s 8ms/step - loss: 2.3444e-05 - val_loss: 0.0572\n",
      "Epoch 65/100\n",
      "40/40 [==============================] - 0s 7ms/step - loss: 2.0140e-05 - val_loss: 0.0604\n",
      "Epoch 66/100\n",
      "40/40 [==============================] - 0s 8ms/step - loss: 2.0715e-05 - val_loss: 0.0585\n",
      "Epoch 67/100\n",
      "40/40 [==============================] - 0s 8ms/step - loss: 1.8982e-05 - val_loss: 0.0603\n",
      "Epoch 68/100\n",
      "40/40 [==============================] - 0s 8ms/step - loss: 2.1441e-05 - val_loss: 0.0586\n",
      "Epoch 69/100\n",
      "40/40 [==============================] - 0s 8ms/step - loss: 1.8974e-05 - val_loss: 0.0638\n",
      "Epoch 70/100\n",
      "40/40 [==============================] - 0s 7ms/step - loss: 2.1372e-05 - val_loss: 0.0624\n",
      "Epoch 71/100\n",
      "40/40 [==============================] - 0s 8ms/step - loss: 2.7959e-05 - val_loss: 0.0609\n",
      "Epoch 72/100\n",
      "40/40 [==============================] - 0s 8ms/step - loss: 2.6835e-05 - val_loss: 0.0704\n",
      "Epoch 73/100\n",
      "40/40 [==============================] - 0s 7ms/step - loss: 4.1903e-05 - val_loss: 0.0589\n",
      "Epoch 74/100\n",
      "40/40 [==============================] - 0s 8ms/step - loss: 4.0569e-05 - val_loss: 0.0749\n",
      "Epoch 75/100\n",
      "40/40 [==============================] - 0s 7ms/step - loss: 5.8087e-05 - val_loss: 0.0604\n",
      "Epoch 76/100\n",
      "40/40 [==============================] - 0s 8ms/step - loss: 6.3942e-05 - val_loss: 0.0904\n",
      "Epoch 77/100\n",
      "40/40 [==============================] - 0s 8ms/step - loss: 6.4694e-05 - val_loss: 0.0577\n",
      "Epoch 78/100\n",
      "40/40 [==============================] - 0s 8ms/step - loss: 3.6879e-05 - val_loss: 0.0772\n",
      "Epoch 79/100\n",
      "40/40 [==============================] - 0s 7ms/step - loss: 4.2880e-05 - val_loss: 0.0562\n"
     ]
    },
    {
     "name": "stdout",
     "output_type": "stream",
     "text": [
      "Epoch 80/100\n",
      "40/40 [==============================] - 0s 7ms/step - loss: 3.7150e-05 - val_loss: 0.0787\n",
      "Epoch 81/100\n",
      "40/40 [==============================] - 0s 8ms/step - loss: 4.7042e-05 - val_loss: 0.0585\n",
      "Epoch 82/100\n",
      "40/40 [==============================] - 0s 9ms/step - loss: 4.1294e-05 - val_loss: 0.0857\n",
      "Epoch 83/100\n",
      "40/40 [==============================] - 0s 7ms/step - loss: 5.0522e-05 - val_loss: 0.0603\n",
      "Epoch 84/100\n",
      "40/40 [==============================] - 0s 7ms/step - loss: 4.9587e-05 - val_loss: 0.0896\n",
      "Epoch 85/100\n",
      "40/40 [==============================] - 0s 7ms/step - loss: 5.0280e-05 - val_loss: 0.0605\n",
      "Epoch 86/100\n",
      "40/40 [==============================] - 0s 7ms/step - loss: 3.1916e-05 - val_loss: 0.0799\n",
      "Epoch 87/100\n",
      "40/40 [==============================] - 0s 8ms/step - loss: 3.4632e-05 - val_loss: 0.0622\n",
      "Epoch 88/100\n",
      "40/40 [==============================] - 0s 7ms/step - loss: 3.2415e-05 - val_loss: 0.0830\n",
      "Epoch 89/100\n",
      "40/40 [==============================] - 0s 8ms/step - loss: 3.8032e-05 - val_loss: 0.0617\n",
      "Epoch 90/100\n",
      "40/40 [==============================] - 0s 7ms/step - loss: 3.3496e-05 - val_loss: 0.0809\n",
      "Epoch 91/100\n",
      "40/40 [==============================] - 0s 8ms/step - loss: 4.1049e-05 - val_loss: 0.0615\n",
      "Epoch 92/100\n",
      "40/40 [==============================] - 0s 7ms/step - loss: 3.2625e-05 - val_loss: 0.0843\n",
      "Epoch 93/100\n",
      "40/40 [==============================] - 0s 7ms/step - loss: 3.3318e-05 - val_loss: 0.0624\n",
      "Epoch 94/100\n",
      "40/40 [==============================] - 0s 8ms/step - loss: 2.0530e-05 - val_loss: 0.0748\n",
      "Epoch 95/100\n",
      "40/40 [==============================] - 0s 8ms/step - loss: 2.2448e-05 - val_loss: 0.0636\n",
      "Epoch 96/100\n",
      "40/40 [==============================] - 0s 7ms/step - loss: 1.9374e-05 - val_loss: 0.0736\n",
      "Epoch 97/100\n",
      "40/40 [==============================] - 0s 7ms/step - loss: 2.5417e-05 - val_loss: 0.0651\n",
      "Epoch 98/100\n",
      "40/40 [==============================] - 0s 8ms/step - loss: 3.1934e-05 - val_loss: 0.0818\n",
      "Epoch 99/100\n",
      "40/40 [==============================] - 0s 8ms/step - loss: 3.2519e-05 - val_loss: 0.0627\n",
      "Epoch 100/100\n",
      "40/40 [==============================] - 0s 8ms/step - loss: 2.4571e-05 - val_loss: 0.0782\n",
      "Model: \"model\"\n",
      "_________________________________________________________________\n",
      " Layer (type)                Output Shape              Param #   \n",
      "=================================================================\n",
      " input_1 (InputLayer)        [(None, 1, 20)]           0         \n",
      "                                                                 \n",
      " lstm (LSTM)                 (None, 1, 60)             19440     \n",
      "                                                                 \n",
      " dropout (Dropout)           (None, 1, 60)             0         \n",
      "                                                                 \n",
      " lstm_1 (LSTM)               (None, 1, 60)             29040     \n",
      "                                                                 \n",
      " dropout_1 (Dropout)         (None, 1, 60)             0         \n",
      "                                                                 \n",
      " lstm_2 (LSTM)               (None, 60)                29040     \n",
      "                                                                 \n",
      " dense (Dense)               (None, 1)                 61        \n",
      "                                                                 \n",
      "=================================================================\n",
      "Total params: 77,581\n",
      "Trainable params: 77,581\n",
      "Non-trainable params: 0\n",
      "_________________________________________________________________\n"
     ]
    }
   ],
   "source": [
    "#Fitting and predicting the model\n",
    "history = model.fit(X_train, Y_train, epochs = 100, batch_size = 20, validation_data = (X_test, Y_test), verbose = 1, shuffle = False)\n",
    "\n",
    "model.summary()"
   ]
  },
  {
   "cell_type": "code",
   "execution_count": 24,
   "id": "36df3e9a",
   "metadata": {},
   "outputs": [],
   "source": [
    "# inverse scale\n",
    "\n",
    "train_predict = model.predict(X_train)\n",
    "\n",
    "Y_hat_train = scaler.inverse_transform(train_predict)\n",
    "\n",
    "test_predict = model.predict(X_test)\n",
    "\n",
    "Y_hat_test = scaler.inverse_transform(test_predict)\n",
    "\n",
    "Y_test = scaler.inverse_transform([Y_test])\n",
    "Y_train = scaler.inverse_transform([Y_train])"
   ]
  },
  {
   "cell_type": "code",
   "execution_count": 25,
   "id": "0f8d9e78",
   "metadata": {},
   "outputs": [
    {
     "data": {
      "text/plain": [
       "(797, 1)"
      ]
     },
     "execution_count": 25,
     "metadata": {},
     "output_type": "execute_result"
    }
   ],
   "source": [
    "Y_hat_train.shape\n"
   ]
  },
  {
   "cell_type": "code",
   "execution_count": 26,
   "id": "0386eb3d",
   "metadata": {},
   "outputs": [],
   "source": [
    "#reshapying the data back \n",
    "\n",
    "Y_hat_train = np.reshape(Y_hat_train, newshape = 797)\n",
    "Y_hat_test = np.reshape(Y_hat_test, newshape = 420)\n",
    "\n",
    "Y_train = np.reshape(Y_train, newshape = 797)\n",
    "Y_test = np.reshape(Y_test, newshape = 420)"
   ]
  },
  {
   "cell_type": "code",
   "execution_count": 27,
   "id": "df5adb20",
   "metadata": {},
   "outputs": [
    {
     "name": "stdout",
     "output_type": "stream",
     "text": [
      "Train RMSE is: \n",
      "6.095877066221136 \n",
      "\n",
      "Test RMSE is: \n",
      "333.8995114096477\n"
     ]
    }
   ],
   "source": [
    "#Calculating the RMSE\n",
    "\n",
    "train_RMSE = np.sqrt(mean_squared_error(Y_train, Y_hat_train))\n",
    "\n",
    "test_RMSE = np.sqrt(mean_squared_error(Y_test, Y_hat_test))\n",
    "\n",
    "print('Train RMSE is: ')\n",
    "print(train_RMSE, '\\n')\n",
    "print('Test RMSE is: ')\n",
    "print(test_RMSE)"
   ]
  },
  {
   "cell_type": "code",
   "execution_count": 28,
   "id": "81819f68",
   "metadata": {},
   "outputs": [],
   "source": [
    "Y = np.append(Y_train, Y_test)\n",
    "Y_hat = np.append(Y_hat_train, Y_hat_test)"
   ]
  },
  {
   "cell_type": "code",
   "execution_count": 29,
   "id": "eb651179",
   "metadata": {},
   "outputs": [
    {
     "data": {
      "text/html": [
       "<div>\n",
       "<style scoped>\n",
       "    .dataframe tbody tr th:only-of-type {\n",
       "        vertical-align: middle;\n",
       "    }\n",
       "\n",
       "    .dataframe tbody tr th {\n",
       "        vertical-align: top;\n",
       "    }\n",
       "\n",
       "    .dataframe thead th {\n",
       "        text-align: right;\n",
       "    }\n",
       "</style>\n",
       "<table border=\"1\" class=\"dataframe\">\n",
       "  <thead>\n",
       "    <tr style=\"text-align: right;\">\n",
       "      <th></th>\n",
       "      <th>Actual_Y</th>\n",
       "      <th>Predicted_Y</th>\n",
       "    </tr>\n",
       "  </thead>\n",
       "  <tbody>\n",
       "    <tr>\n",
       "      <th>0</th>\n",
       "      <td>49.847999</td>\n",
       "      <td>56.282558</td>\n",
       "    </tr>\n",
       "    <tr>\n",
       "      <th>1</th>\n",
       "      <td>50.309999</td>\n",
       "      <td>56.147476</td>\n",
       "    </tr>\n",
       "    <tr>\n",
       "      <th>2</th>\n",
       "      <td>50.266000</td>\n",
       "      <td>56.194241</td>\n",
       "    </tr>\n",
       "    <tr>\n",
       "      <th>3</th>\n",
       "      <td>51.554002</td>\n",
       "      <td>56.248547</td>\n",
       "    </tr>\n",
       "    <tr>\n",
       "      <th>4</th>\n",
       "      <td>51.495999</td>\n",
       "      <td>56.582115</td>\n",
       "    </tr>\n",
       "  </tbody>\n",
       "</table>\n",
       "</div>"
      ],
      "text/plain": [
       "    Actual_Y  Predicted_Y\n",
       "0  49.847999    56.282558\n",
       "1  50.309999    56.147476\n",
       "2  50.266000    56.194241\n",
       "3  51.554002    56.248547\n",
       "4  51.495999    56.582115"
      ]
     },
     "execution_count": 29,
     "metadata": {},
     "output_type": "execute_result"
    }
   ],
   "source": [
    "result_df = pd.DataFrame()\n",
    "\n",
    "result_df['Actual_Y'] = Y\n",
    "result_df['Predicted_Y'] = Y_hat\n",
    "\n",
    "\n",
    "result_df.head()"
   ]
  },
  {
   "cell_type": "code",
   "execution_count": 30,
   "id": "cefd8752",
   "metadata": {},
   "outputs": [
    {
     "data": {
      "text/plain": [
       "Text(0, 0.5, 'Value of Tesla Stock')"
      ]
     },
     "execution_count": 30,
     "metadata": {},
     "output_type": "execute_result"
    },
    {
     "data": {
      "image/png": "[encoded data removed]",
      "text/plain": [
       "<Figure size 576x432 with 1 Axes>"
      ]
     },
     "metadata": {
      "needs_background": "light"
     },
     "output_type": "display_data"
    }
   ],
   "source": [
    "#ploting the results\n",
    "\n",
    "result_df.plot(figsize=(8,6))\n",
    "plt.xlabel('Time in Days')\n",
    "plt.ylabel('Value of Tesla Stock')"
   ]
  },
  {
   "cell_type": "code",
   "execution_count": null,
   "id": "992c9695",
   "metadata": {},
   "outputs": [],
   "source": []
  },
  {
   "cell_type": "code",
   "execution_count": null,
   "id": "7dff6022",
   "metadata": {},
   "outputs": [],
   "source": []
  }
 ],
 "metadata": {
  "kernelspec": {
   "display_name": "Python 3 (ipykernel)",
   "language": "python",
   "name": "python3"
  },
  "language_info": {
   "codemirror_mode": {
    "name": "ipython",
    "version": 3
   },
   "file_extension": ".py",
   "mimetype": "text/x-python",
   "name": "python",
   "nbconvert_exporter": "python",
   "pygments_lexer": "ipython3",
   "version": "3.8.12"
  }
 },
 "nbformat": 4,
 "nbformat_minor": 5
}
